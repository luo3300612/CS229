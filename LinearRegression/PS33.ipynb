{
 "cells": [
  {
   "cell_type": "markdown",
   "metadata": {},
   "source": [
    "# Linear Regression l1正则化"
   ]
  },
  {
   "cell_type": "code",
   "execution_count": 1,
   "metadata": {},
   "outputs": [],
   "source": [
    "import pandas as pd"
   ]
  },
  {
   "cell_type": "markdown",
   "metadata": {},
   "source": [
    "## 读取数据"
   ]
  },
  {
   "cell_type": "code",
   "execution_count": 2,
   "metadata": {},
   "outputs": [],
   "source": [
    "train = pd.read_csv(\"./all/train.csv\")\n",
    "test = pd.read_csv(\"./all/test.csv\")"
   ]
  },
  {
   "cell_type": "code",
   "execution_count": 3,
   "metadata": {},
   "outputs": [],
   "source": [
    "todrop = []\n",
    "for column in train.columns:\n",
    "    if train[column].dtype == 'object':\n",
    "        todrop.append(column)\n",
    "    #print(column,' ',data[column].dtype,' ',data[column][0])"
   ]
  },
  {
   "cell_type": "code",
   "execution_count": 4,
   "metadata": {},
   "outputs": [],
   "source": [
    "train = train.drop(todrop, axis=1)\n",
    "test = test.drop(todrop, axis=1)"
   ]
  },
  {
   "cell_type": "markdown",
   "metadata": {},
   "source": [
    "## 补充NULL值"
   ]
  },
  {
   "cell_type": "code",
   "execution_count": 5,
   "metadata": {},
   "outputs": [
    {
     "name": "stdout",
     "output_type": "stream",
     "text": [
      "Id                 0\n",
      "MSSubClass         0\n",
      "LotFrontage      259\n",
      "LotArea            0\n",
      "OverallQual        0\n",
      "OverallCond        0\n",
      "YearBuilt          0\n",
      "YearRemodAdd       0\n",
      "MasVnrArea         8\n",
      "BsmtFinSF1         0\n",
      "BsmtFinSF2         0\n",
      "BsmtUnfSF          0\n",
      "TotalBsmtSF        0\n",
      "1stFlrSF           0\n",
      "2ndFlrSF           0\n",
      "LowQualFinSF       0\n",
      "GrLivArea          0\n",
      "BsmtFullBath       0\n",
      "BsmtHalfBath       0\n",
      "FullBath           0\n",
      "HalfBath           0\n",
      "BedroomAbvGr       0\n",
      "KitchenAbvGr       0\n",
      "TotRmsAbvGrd       0\n",
      "Fireplaces         0\n",
      "GarageYrBlt       81\n",
      "GarageCars         0\n",
      "GarageArea         0\n",
      "WoodDeckSF         0\n",
      "OpenPorchSF        0\n",
      "EnclosedPorch      0\n",
      "3SsnPorch          0\n",
      "ScreenPorch        0\n",
      "PoolArea           0\n",
      "MiscVal            0\n",
      "MoSold             0\n",
      "YrSold             0\n",
      "SalePrice          0\n",
      "dtype: int64\n",
      "--------------------------------------------------\n",
      "Id                 0\n",
      "MSSubClass         0\n",
      "LotFrontage      227\n",
      "LotArea            0\n",
      "OverallQual        0\n",
      "OverallCond        0\n",
      "YearBuilt          0\n",
      "YearRemodAdd       0\n",
      "MasVnrArea        15\n",
      "BsmtFinSF1         1\n",
      "BsmtFinSF2         1\n",
      "BsmtUnfSF          1\n",
      "TotalBsmtSF        1\n",
      "1stFlrSF           0\n",
      "2ndFlrSF           0\n",
      "LowQualFinSF       0\n",
      "GrLivArea          0\n",
      "BsmtFullBath       2\n",
      "BsmtHalfBath       2\n",
      "FullBath           0\n",
      "HalfBath           0\n",
      "BedroomAbvGr       0\n",
      "KitchenAbvGr       0\n",
      "TotRmsAbvGrd       0\n",
      "Fireplaces         0\n",
      "GarageYrBlt       78\n",
      "GarageCars         1\n",
      "GarageArea         1\n",
      "WoodDeckSF         0\n",
      "OpenPorchSF        0\n",
      "EnclosedPorch      0\n",
      "3SsnPorch          0\n",
      "ScreenPorch        0\n",
      "PoolArea           0\n",
      "MiscVal            0\n",
      "MoSold             0\n",
      "YrSold             0\n",
      "dtype: int64\n"
     ]
    }
   ],
   "source": [
    "print(train.isnull().sum())\n",
    "print('-'*50)\n",
    "print(test.isnull().sum())"
   ]
  },
  {
   "cell_type": "code",
   "execution_count": 6,
   "metadata": {},
   "outputs": [],
   "source": [
    "datasets = [train, test]\n",
    "for dataset in datasets:\n",
    "    ret = dataset.isnull().sum()\n",
    "    for index in ret.index:\n",
    "        if ret[index] != 0:\n",
    "            dataset[index].fillna(value=dataset[index].mean(), inplace=True)"
   ]
  },
  {
   "cell_type": "code",
   "execution_count": 7,
   "metadata": {},
   "outputs": [
    {
     "name": "stdout",
     "output_type": "stream",
     "text": [
      "Id               0\n",
      "MSSubClass       0\n",
      "LotFrontage      0\n",
      "LotArea          0\n",
      "OverallQual      0\n",
      "OverallCond      0\n",
      "YearBuilt        0\n",
      "YearRemodAdd     0\n",
      "MasVnrArea       0\n",
      "BsmtFinSF1       0\n",
      "BsmtFinSF2       0\n",
      "BsmtUnfSF        0\n",
      "TotalBsmtSF      0\n",
      "1stFlrSF         0\n",
      "2ndFlrSF         0\n",
      "LowQualFinSF     0\n",
      "GrLivArea        0\n",
      "BsmtFullBath     0\n",
      "BsmtHalfBath     0\n",
      "FullBath         0\n",
      "HalfBath         0\n",
      "BedroomAbvGr     0\n",
      "KitchenAbvGr     0\n",
      "TotRmsAbvGrd     0\n",
      "Fireplaces       0\n",
      "GarageYrBlt      0\n",
      "GarageCars       0\n",
      "GarageArea       0\n",
      "WoodDeckSF       0\n",
      "OpenPorchSF      0\n",
      "EnclosedPorch    0\n",
      "3SsnPorch        0\n",
      "ScreenPorch      0\n",
      "PoolArea         0\n",
      "MiscVal          0\n",
      "MoSold           0\n",
      "YrSold           0\n",
      "SalePrice        0\n",
      "dtype: int64\n",
      "--------------------------------------------------\n",
      "Id               0\n",
      "MSSubClass       0\n",
      "LotFrontage      0\n",
      "LotArea          0\n",
      "OverallQual      0\n",
      "OverallCond      0\n",
      "YearBuilt        0\n",
      "YearRemodAdd     0\n",
      "MasVnrArea       0\n",
      "BsmtFinSF1       0\n",
      "BsmtFinSF2       0\n",
      "BsmtUnfSF        0\n",
      "TotalBsmtSF      0\n",
      "1stFlrSF         0\n",
      "2ndFlrSF         0\n",
      "LowQualFinSF     0\n",
      "GrLivArea        0\n",
      "BsmtFullBath     0\n",
      "BsmtHalfBath     0\n",
      "FullBath         0\n",
      "HalfBath         0\n",
      "BedroomAbvGr     0\n",
      "KitchenAbvGr     0\n",
      "TotRmsAbvGrd     0\n",
      "Fireplaces       0\n",
      "GarageYrBlt      0\n",
      "GarageCars       0\n",
      "GarageArea       0\n",
      "WoodDeckSF       0\n",
      "OpenPorchSF      0\n",
      "EnclosedPorch    0\n",
      "3SsnPorch        0\n",
      "ScreenPorch      0\n",
      "PoolArea         0\n",
      "MiscVal          0\n",
      "MoSold           0\n",
      "YrSold           0\n",
      "dtype: int64\n"
     ]
    }
   ],
   "source": [
    "print(train.isnull().sum())\n",
    "print('-'*50)\n",
    "print(test.isnull().sum())"
   ]
  },
  {
   "cell_type": "markdown",
   "metadata": {},
   "source": [
    "## 提取资料矩阵"
   ]
  },
  {
   "cell_type": "code",
   "execution_count": 8,
   "metadata": {},
   "outputs": [],
   "source": [
    "import numpy as np"
   ]
  },
  {
   "cell_type": "code",
   "execution_count": 9,
   "metadata": {},
   "outputs": [],
   "source": [
    "label = train['SalePrice']\n",
    "train = train.drop(['SalePrice', 'Id'], axis=1)\n",
    "testId = test['Id']\n",
    "test = test.drop('Id', axis=1)"
   ]
  },
  {
   "cell_type": "code",
   "execution_count": 10,
   "metadata": {},
   "outputs": [
    {
     "name": "stdout",
     "output_type": "stream",
     "text": [
      "(1460, 36)\n",
      "(1459, 36)\n"
     ]
    }
   ],
   "source": [
    "print(train.shape)\n",
    "print(test.shape)"
   ]
  },
  {
   "cell_type": "markdown",
   "metadata": {},
   "source": [
    "## 归一化"
   ]
  },
  {
   "cell_type": "code",
   "execution_count": 11,
   "metadata": {},
   "outputs": [],
   "source": [
    "train = (train - train.mean(0))/train.std(0)\n",
    "test = (test - test.mean(0))/test.std(0)"
   ]
  },
  {
   "cell_type": "code",
   "execution_count": 12,
   "metadata": {},
   "outputs": [],
   "source": [
    "train = np.hstack((np.ones((train.shape[0],1)),train))\n",
    "test = np.hstack((np.ones((test.shape[0],1)),test))"
   ]
  },
  {
   "cell_type": "code",
   "execution_count": 13,
   "metadata": {},
   "outputs": [],
   "source": [
    "label = (label - label.mean(0))/label.std(0)"
   ]
  },
  {
   "cell_type": "code",
   "execution_count": 14,
   "metadata": {},
   "outputs": [],
   "source": [
    "origin_train = train.copy()\n",
    "train = train[:1000, :]\n",
    "origin_trainId = label.copy()\n",
    "trainId = label[:1000]"
   ]
  },
  {
   "cell_type": "markdown",
   "metadata": {},
   "source": [
    "## 闭式解"
   ]
  },
  {
   "cell_type": "markdown",
   "metadata": {},
   "source": [
    "### 无正则项"
   ]
  },
  {
   "cell_type": "code",
   "execution_count": 15,
   "metadata": {},
   "outputs": [],
   "source": [
    "theta = np.linalg.solve(train.T.dot(train),train.T.dot(trainId))"
   ]
  },
  {
   "cell_type": "code",
   "execution_count": 16,
   "metadata": {},
   "outputs": [
    {
     "data": {
      "text/plain": [
       "array([ 0.007, -0.059,  0.03 ,  0.057,  0.271,  0.049,  0.086,  0.065,\n",
       "        0.065,  0.053, -0.013, -0.041,  0.145,  0.008,  0.008, -0.007,\n",
       "        0.306,  0.029,  0.004,  0.01 ,  0.002, -0.141, -0.05 ,  0.165,\n",
       "        0.028,  0.046, -0.   ,  0.072,  0.023, -0.012,  0.006, -0.01 ,\n",
       "        0.039, -0.026, -0.001, -0.022, -0.017])"
      ]
     },
     "execution_count": 16,
     "metadata": {},
     "output_type": "execute_result"
    }
   ],
   "source": [
    "np.set_printoptions(precision=3, suppress=True)\n",
    "theta"
   ]
  },
  {
   "cell_type": "code",
   "execution_count": 17,
   "metadata": {},
   "outputs": [
    {
     "data": {
      "text/plain": [
       "0.01234175633140587"
      ]
     },
     "execution_count": 17,
     "metadata": {},
     "output_type": "execute_result"
    }
   ],
   "source": [
    "train_error = np.linalg.norm((train.dot(theta)-trainId).T)/train.shape[0]\n",
    "train_error"
   ]
  },
  {
   "cell_type": "code",
   "execution_count": 18,
   "metadata": {},
   "outputs": [
    {
     "data": {
      "text/plain": [
       "0.025458576865193473"
      ]
     },
     "execution_count": 18,
     "metadata": {},
     "output_type": "execute_result"
    }
   ],
   "source": [
    "test_error = np.linalg.norm(origin_train[1000:,:].dot(theta)-origin_trainId[1000:])/origin_train[1000:,:].shape[0]\n",
    "test_error"
   ]
  },
  {
   "cell_type": "markdown",
   "metadata": {},
   "source": [
    "### l2正则化"
   ]
  },
  {
   "cell_type": "code",
   "execution_count": 70,
   "metadata": {},
   "outputs": [
    {
     "name": "stdout",
     "output_type": "stream",
     "text": [
      "lambda=1,train_error=0.012341772477674477,test_error=0.02545178955226393\n",
      "lambda=5,train_error=0.01234214682899876,test_error=0.025425617746927955\n",
      "lambda=10,train_error=0.012343257059386034,test_error=0.025394939855438343\n",
      "lambda=20,train_error=0.012347320956324037,test_error=0.025339497687732485\n",
      "lambda=30,train_error=0.012353419262251378,test_error=0.025290706556653858\n",
      "lambda=40,train_error=0.012361151233105975,test_error=0.02524740978513918\n",
      "lambda=50,train_error=0.012370206728556373,test_error=0.025208717794906372\n",
      "lambda=75,train_error=0.012397153324256572,test_error=0.025127883249537047\n",
      "lambda=100,train_error=0.01242830351651632,test_error=0.02506410966606741\n",
      "lambda=200,train_error=0.012570622848036287,test_error=0.024905613318373588\n",
      "lambda=300,train_error=0.012719436058152633,test_error=0.0248250665633379\n",
      "lambda=400,train_error=0.012866405787595929,test_error=0.024781948897411105\n",
      "lambda=500,train_error=0.01301043316315764,test_error=0.024761347435303668\n",
      "lambda=600,train_error=0.013151913460606112,test_error=0.024756551664710257\n",
      "lambda=700,train_error=0.013291448648557446,test_error=0.024764050079271776\n",
      "lambda=800,train_error=0.013429549881480589,test_error=0.024781753662717874\n",
      "lambda=900,train_error=0.013566590389541028,test_error=0.024808272533681085\n",
      "lambda=1000,train_error=0.013702821264632702,test_error=0.024842590758503376\n"
     ]
    },
    {
     "data": {
      "text/plain": [
       "Text(0,0.5,'val error')"
      ]
     },
     "execution_count": 70,
     "metadata": {},
     "output_type": "execute_result"
    },
    {
     "data": {
      "image/png": "[encoded data removed]",
      "text/plain": [
       "<matplotlib.figure.Figure at 0x7f74108f3be0>"
      ]
     },
     "metadata": {},
     "output_type": "display_data"
    }
   ],
   "source": [
    "lambs = [1,5,10,20,30,40,50,75,100,200,300,400,500,600,700,800,900,1000]\n",
    "test_error = np.zeros((len(lambs),))\n",
    "for lamb in lambs:\n",
    "    theta = np.linalg.solve(lamb*np.eye(train.shape[1])+train.T.dot(train),train.T.dot(trainId))\n",
    "    train_error = np.linalg.norm((train.dot(theta)-trainId).T)/train.shape[0]\n",
    "    test_error[lambs.index(lamb)] = np.linalg.norm(origin_train[1000:,:].dot(theta)-origin_trainId[1000:])/origin_train[1000:,:].shape[0]\n",
    "    print(f\"lambda={lamb},train_error={train_error},test_error={test_error[lambs.index(lamb)]}\")\n",
    "\n",
    "import matplotlib.pyplot as plt\n",
    "%matplotlib inline\n",
    "plt.plot(lambs,test_error)\n",
    "plt.xlabel('lambda')\n",
    "plt.ylabel('val error')"
   ]
  },
  {
   "cell_type": "code",
   "execution_count": 71,
   "metadata": {},
   "outputs": [
    {
     "data": {
      "text/plain": [
       "(array([2., 4., 7., 4., 6., 5., 6., 1., 1., 1.]),\n",
       " array([-0.039, -0.022, -0.004,  0.014,  0.032,  0.05 ,  0.068,  0.086,\n",
       "         0.103,  0.121,  0.139]),\n",
       " <a list of 10 Patch objects>)"
      ]
     },
     "execution_count": 71,
     "metadata": {},
     "output_type": "execute_result"
    },
    {
     "data": {
      "image/png": "[encoded data removed]",
      "text/plain": [
       "<matplotlib.figure.Figure at 0x7f74108dac88>"
      ]
     },
     "metadata": {},
     "output_type": "display_data"
    }
   ],
   "source": [
    "plt.hist(theta)"
   ]
  },
  {
   "cell_type": "markdown",
   "metadata": {},
   "source": [
    "### l1正则化"
   ]
  },
  {
   "cell_type": "code",
   "execution_count": 78,
   "metadata": {},
   "outputs": [
    {
     "name": "stdout",
     "output_type": "stream",
     "text": [
      "lambda= 0.001 error= 0.025449699118986948\n",
      "lambda= 0.01 error= 0.025447624886472866\n",
      "lambda= 0.1 error= 0.025447376558575922\n",
      "lambda= 0.5 error= 0.025435039697639467\n",
      "lambda= 1 error= 0.02542530966735849\n",
      "lambda= 5 error= 0.02526325880921689\n",
      "lambda= 10 error= 0.025140139189195044\n"
     ]
    }
   ],
   "source": [
    "def costl1(X,Y,theta,lamd):\n",
    "    return (X.dot(theta)-Y).T.dot(X.dot(theta)-Y)+lamd*np.sum(np.abs(theta))\n",
    "\n",
    "def cost(X,Y,theta,lamd):\n",
    "    return (X.dot(theta)-Y).T.dot(X.dot(theta)-Y)\n",
    "\n",
    "lambs = [0.001,0.01,0.1,0.5,1,5,10]\n",
    "epsilon = 1e-3\n",
    "for lamb in lambs:\n",
    "    delta = 1\n",
    "    theta = np.random.random((train.shape[1],))\n",
    "    while delta > epsilon:\n",
    "        turn_cost = 0\n",
    "        theta_before = theta.copy()\n",
    "        for i in range(theta.shape[0]):\n",
    "            Xi = train[:,i]\n",
    "            theta_bar = theta.copy()\n",
    "            theta_bar[i] = 0\n",
    "            thetai_si_eq_1 = max((Xi.T.dot(trainId)-Xi.T.dot(train).dot(theta_bar)-lamb)/np.linalg.norm(Xi)**2,0)\n",
    "            thetai_si_eq_m1 = min((Xi.T.dot(trainId)-Xi.T.dot(train).dot(theta_bar)+lamb)/np.linalg.norm(Xi)**2,0)\n",
    "\n",
    "            theta_si_eq_1 = theta_bar.copy()\n",
    "            theta_si_eq_1[i] += thetai_si_eq_1\n",
    "\n",
    "            theta_si_eq_m1 = theta_bar.copy()\n",
    "            theta_si_eq_m1[i] += thetai_si_eq_m1\n",
    "\n",
    "\n",
    "            if costl1(train,trainId,theta_si_eq_1,lamb) > costl1(train,trainId,theta_si_eq_m1,lamb):\n",
    "                theta[i] = thetai_si_eq_m1\n",
    "            else:\n",
    "                theta[i] = thetai_si_eq_1\n",
    "\n",
    "            turn_cost += min(costl1(train,trainId,theta_si_eq_1,lamb),costl1(train,trainId,theta_si_eq_m1,lamb))\n",
    "    \n",
    "        delta = np.linalg.norm(theta_before-theta)\n",
    "    test_error = np.linalg.norm(origin_train[1000:,:].dot(theta)-origin_trainId[1000:])/origin_train[1000:,:].shape[0]\n",
    "    print(\"lambda=\",lamb,\"error=\",test_error)"
   ]
  },
  {
   "cell_type": "code",
   "execution_count": 74,
   "metadata": {},
   "outputs": [
    {
     "data": {
      "text/plain": [
       "array([ 0.002, -0.053,  0.025,  0.056,  0.277,  0.039,  0.081,  0.068,\n",
       "        0.064,  0.097,  0.   ,  0.   ,  0.102,  0.004,  0.   , -0.004,\n",
       "        0.311,  0.023,  0.   ,  0.002,  0.   , -0.12 , -0.046,  0.147,\n",
       "        0.029,  0.04 ,  0.003,  0.074,  0.023, -0.001,  0.   , -0.005,\n",
       "        0.035, -0.013,  0.   , -0.016, -0.009])"
      ]
     },
     "execution_count": 74,
     "metadata": {},
     "output_type": "execute_result"
    }
   ],
   "source": [
    "theta"
   ]
  },
  {
   "cell_type": "code",
   "execution_count": 75,
   "metadata": {},
   "outputs": [
    {
     "data": {
      "text/plain": [
       "(array([ 1.,  0.,  0.,  2.,  2., 15.,  4.,  3.,  4.,  1.,  2.,  0.,  1.,\n",
       "         0.,  0.,  0.,  0.,  0.,  1.,  1.]),\n",
       " array([-0.12 , -0.099, -0.077, -0.056, -0.034, -0.013,  0.009,  0.031,\n",
       "         0.052,  0.074,  0.095,  0.117,  0.139,  0.16 ,  0.182,  0.203,\n",
       "         0.225,  0.246,  0.268,  0.29 ,  0.311]),\n",
       " <a list of 20 Patch objects>)"
      ]
     },
     "execution_count": 75,
     "metadata": {},
     "output_type": "execute_result"
    },
    {
     "data": {
      "image/png": "[encoded data removed]",
      "text/plain": [
       "<matplotlib.figure.Figure at 0x7f7410891860>"
      ]
     },
     "metadata": {},
     "output_type": "display_data"
    }
   ],
   "source": [
    "plt.hist(theta,20)"
   ]
  },
  {
   "cell_type": "code",
   "execution_count": 76,
   "metadata": {},
   "outputs": [
    {
     "data": {
      "text/plain": [
       "0.025265322017165567"
      ]
     },
     "execution_count": 76,
     "metadata": {},
     "output_type": "execute_result"
    }
   ],
   "source": [
    "test_error = np.linalg.norm(origin_train[1000:,:].dot(theta)-origin_trainId[1000:])/origin_train[1000:,:].shape[0]\n",
    "test_error"
   ]
  },
  {
   "cell_type": "code",
   "execution_count": null,
   "metadata": {},
   "outputs": [],
   "source": []
  }
 ],
 "metadata": {
  "kernelspec": {
   "display_name": "Python 3",
   "language": "python",
   "name": "python3"
  },
  "language_info": {
   "codemirror_mode": {
    "name": "ipython",
    "version": 3
   },
   "file_extension": ".py",
   "mimetype": "text/x-python",
   "name": "python",
   "nbconvert_exporter": "python",
   "pygments_lexer": "ipython3",
   "version": "3.6.4"
  }
 },
 "nbformat": 4,
 "nbformat_minor": 2
}

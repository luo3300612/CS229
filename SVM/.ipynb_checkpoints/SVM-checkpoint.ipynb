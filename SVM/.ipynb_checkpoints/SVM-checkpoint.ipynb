{
 "cells": [
  {
   "cell_type": "markdown",
   "metadata": {},
   "source": [
    "# SVM trained by SMO"
   ]
  },
  {
   "cell_type": "code",
   "execution_count": 12,
   "metadata": {},
   "outputs": [],
   "source": [
    "import pandas as pd\n",
    "import numpy as np\n",
    "import matplotlib.pyplot as plt"
   ]
  },
  {
   "cell_type": "markdown",
   "metadata": {},
   "source": [
    "## 准备数据集"
   ]
  },
  {
   "cell_type": "code",
   "execution_count": 4,
   "metadata": {},
   "outputs": [],
   "source": [
    "train_data = pd.read_csv('train.csv')\n",
    "test_data = pd.read_csv('test.csv')\n",
    "datasets = [train_data, test_data]"
   ]
  },
  {
   "cell_type": "code",
   "execution_count": 5,
   "metadata": {},
   "outputs": [
    {
     "name": "stdout",
     "output_type": "stream",
     "text": [
      "<class 'pandas.core.frame.DataFrame'>\n",
      "RangeIndex: 891 entries, 0 to 890\n",
      "Data columns (total 12 columns):\n",
      "PassengerId    891 non-null int64\n",
      "Survived       891 non-null int64\n",
      "Pclass         891 non-null int64\n",
      "Name           891 non-null object\n",
      "Sex            891 non-null object\n",
      "Age            714 non-null float64\n",
      "SibSp          891 non-null int64\n",
      "Parch          891 non-null int64\n",
      "Ticket         891 non-null object\n",
      "Fare           891 non-null float64\n",
      "Cabin          204 non-null object\n",
      "Embarked       889 non-null object\n",
      "dtypes: float64(2), int64(5), object(5)\n",
      "memory usage: 83.6+ KB\n"
     ]
    }
   ],
   "source": [
    "train_data.info()"
   ]
  },
  {
   "cell_type": "code",
   "execution_count": 6,
   "metadata": {},
   "outputs": [],
   "source": [
    "to_drop = ['Name', 'Ticket', 'Cabin', 'Embarked', 'PassengerId']\n",
    "\n",
    "for dataset in datasets:\n",
    "    dataset.drop(to_drop,axis=1,inplace=True)\n",
    "    dataset.replace(to_replace='male',value=1,inplace=True)\n",
    "    dataset.replace(to_replace='female',value=0,inplace=True)\n",
    "    dataset['Age'].fillna(value=dataset['Age'].mean(), inplace=True)\n",
    "    dataset['Fare'].fillna(value=dataset['Fare'].mean(), inplace=True)"
   ]
  },
  {
   "cell_type": "code",
   "execution_count": 7,
   "metadata": {},
   "outputs": [
    {
     "name": "stdout",
     "output_type": "stream",
     "text": [
      "Survived    0\n",
      "Pclass      0\n",
      "Sex         0\n",
      "Age         0\n",
      "SibSp       0\n",
      "Parch       0\n",
      "Fare        0\n",
      "dtype: int64\n",
      "--------------------------------------------------\n",
      "Pclass    0\n",
      "Sex       0\n",
      "Age       0\n",
      "SibSp     0\n",
      "Parch     0\n",
      "Fare      0\n",
      "dtype: int64\n"
     ]
    }
   ],
   "source": [
    "print(datasets[0].isnull().sum())\n",
    "print(\"-\"*50)\n",
    "print(datasets[1].isnull().sum())"
   ]
  },
  {
   "cell_type": "code",
   "execution_count": 8,
   "metadata": {},
   "outputs": [],
   "source": [
    "labels = train_data['Survived']\n",
    "train_data.drop('Survived', axis=1, inplace=True)\n",
    "train_data = (train_data - train_data.mean())/train_data.std()\n",
    "test_data = (test_data - test_data.mean())/test_data.std()\n",
    "\n",
    "labels.replace(to_replace=0,value=-1,inplace=True);"
   ]
  },
  {
   "cell_type": "markdown",
   "metadata": {},
   "source": [
    "## SMO算法"
   ]
  },
  {
   "cell_type": "code",
   "execution_count": 9,
   "metadata": {},
   "outputs": [],
   "source": [
    "def takeStep(i1,i2):\n",
    "    global b\n",
    "    global w\n",
    "    #print(\"TS:in takeStep\")\n",
    "    if i1 == i2: return 0\n",
    "    #print(\"TS:i1 != i2\")\n",
    "    alpha1 = alpha[i1]\n",
    "    alpha2 = alpha[i2]\n",
    "    y1 = y[i1]\n",
    "    y2 = y[i2]\n",
    "    x1 = train.iloc[i1,:]\n",
    "    x2 = train.iloc[i2,:]\n",
    "    \n",
    "    if 0 < alpha1 < C:\n",
    "        E1 = E[i1]\n",
    "    else:\n",
    "        E1 = svm(train.iloc[i1]) - y1\n",
    "    \n",
    "    if 0 < alpha2 < C:\n",
    "        E2 = E[i2]\n",
    "    else:\n",
    "        E2 = svm(train.iloc[i2]) - y2\n",
    "    \n",
    "    s = y1*y2\n",
    "    \n",
    "    # compute L,H via equations (13) and (14)\n",
    "    if s < 0:\n",
    "        L = max(0,alpha2-alpha1)\n",
    "        H = min(C,C+alpha2-alpha1)\n",
    "    elif s > 0:\n",
    "        L = max(0,alpha2+alpha1-C)\n",
    "        H = min(C,alpha2+alpha1)\n",
    "    else:\n",
    "        return 0\n",
    "    #print(\"TS:s!=0\")\n",
    "    k11 = x1.dot(x1)\n",
    "    k12 = x1.dot(x2)\n",
    "    k22 = x2.dot(x2)\n",
    "    \n",
    "    eta = k11 + k22 - 2*k12\n",
    "    \n",
    "    if eta > 0:\n",
    "        #print(\"TS:eta > 0\")\n",
    "        a2 = alpha2 + y2*(E1-E2) / eta\n",
    "        #print(f\"L={L},H={H},a2={a2}\",end=' ')\n",
    "        if a2 < L:\n",
    "            a2 = L\n",
    "        elif a2 > H:\n",
    "            a2 = H\n",
    "        #print(f\"a2={a2}\")\n",
    "    else:\n",
    "        #print(\"TS:eta <= 0\")\n",
    "        alpha[i2] = L\n",
    "        Lobj = obj(alpha)\n",
    "        alpha[i2] = H\n",
    "        Hobj = obj(alpha)\n",
    "        \n",
    "        if Lobj < Hobj - eps:\n",
    "            a2 = L\n",
    "        elif Lobj > Hobj + eps:\n",
    "            a2 = H\n",
    "        else:\n",
    "            a2 = alpha2\n",
    "    #print(f\"alpha2={alpha2}\")\n",
    "    if np.abs(a2-alpha2) < eps*(a2+alpha2+eps):\n",
    "        return 0\n",
    "    \n",
    "    #print(\"np.abs(a2-alpha2) < eps*(a2+alpha2+eps)\")\n",
    "    a1 = alpha1 + s*(alpha2-a2)\n",
    "    \n",
    "    b1 = E1 + y1*(a1-alpha1)*k11+y2*(a2-alpha2)*k12+b\n",
    "    \n",
    "    b2 = E2 + y1*(a1-alpha1)*k12+y2*(a2-alpha2)*k22+b\n",
    "    \n",
    "    if 0 < a1 < C:\n",
    "        b = b1\n",
    "    elif 0 < a2 < C:\n",
    "        b = b2\n",
    "    else:\n",
    "        b = (b1+b2)/2\n",
    "    \n",
    "    w = w + y1*(a1-alpha1)*x1 + y2*(a2-alpha2)*x2\n",
    "    \n",
    "    for i in range(m):\n",
    "        if 0<alpha[i]<C:\n",
    "            E[i] = svm(train.iloc[i,:]) - y[i]\n",
    "            \n",
    "    E[i1] = 0\n",
    "    E[i2] = 0\n",
    "    \n",
    "    alpha[i1] = a1\n",
    "    alpha[i2] = a2\n",
    "    \n",
    "    return 1\n",
    " \n",
    "        \n",
    "def svm(x):\n",
    "    return w.dot(x) - b\n",
    "\n",
    "\n",
    "def obj(alpha):\n",
    "    alphay = alpha * y\n",
    "    return alphay.dot(K).dot(alphay) - np.sum(alpha)    \n",
    "    \n",
    "\n",
    "def examineExample(i2):\n",
    "    #print(\"examine example \",i2,\"...\")\n",
    "    y2 = y[i2]\n",
    "    alpha2 = alpha[i2]\n",
    "    \n",
    "    \n",
    "    if 0 < alpha2 < C: ## attention\n",
    "        E2 = E[i2]\n",
    "    else:\n",
    "        E2 = svm(train.iloc[i2,:]) - y2\n",
    "\n",
    "    r2 = E2*y2\n",
    "    \n",
    "    if (r2 < -eps and alpha2 < C) or (r2 > eps and alpha2 > 0):\n",
    "        #print(\"first if fitted\")\n",
    "        \n",
    "        ltC = (alpha < C)\n",
    "        gt0 = (alpha > 0)\n",
    "        indexs = [ltC[i] and gt0[i] for i in range(len(ltC))]\n",
    "        \n",
    "        if sum(indexs) > 1:\n",
    "            #print(\"EX:indexs>1\")\n",
    "            maxStep = 0\n",
    "            i1 = i2\n",
    "            for i in range(E.shape[0]):\n",
    "                if np.abs(E2-E[i]) > maxStep:\n",
    "                    i1 = i\n",
    "                    maxStep = np.abs(E2-E[i])\n",
    "            '''\n",
    "            if E2 > 0:\n",
    "                minE = E2\n",
    "                i1 = i2\n",
    "                for i in range(E.shape[0]):\n",
    "                    if E[i] < minE:\n",
    "                        minE = E[i]\n",
    "                        i1 = i\n",
    "            else:\n",
    "                maxE = E2\n",
    "                i1 = i2\n",
    "                for i in range(E.shape[0]):\n",
    "                    if E[i] > maxE:\n",
    "                        maxE = E[i]\n",
    "                        i1 = i\n",
    "            '''\n",
    "            if takeStep(i1,i2):\n",
    "                return 1\n",
    "        if sum(indexs) >= 1:\n",
    "            #print(\"EX:bound search\")\n",
    "            i1 = -1\n",
    "            i = 0\n",
    "            while True:\n",
    "                if 0 < alpha[i] < C and np.random.uniform(0,1) < 1/sum(indexs):\n",
    "                    i1 = i\n",
    "                    break\n",
    "                i += 1\n",
    "                i = i%m\n",
    "            if takeStep(i1,i2):\n",
    "                return 1\n",
    "        \n",
    "        #print(\"EX:nonbound search\")\n",
    "        i1 = i2\n",
    "        while i1==i2:\n",
    "            i1 = np.random.randint(0,m)\n",
    "        if takeStep(i1,i2):\n",
    "            return 1\n",
    "    #print(\"EX:do nothing\")\n",
    "    return 0"
   ]
  },
  {
   "cell_type": "markdown",
   "metadata": {},
   "source": [
    "## 算法检验"
   ]
  },
  {
   "cell_type": "code",
   "execution_count": 10,
   "metadata": {},
   "outputs": [],
   "source": [
    "train = train_data.iloc[:100,:]\n",
    "y = labels[:100]\n",
    "m = train.shape[0]\n",
    "n = train.shape[1]\n",
    "K = train.dot(train.T)"
   ]
  },
  {
   "cell_type": "code",
   "execution_count": 11,
   "metadata": {},
   "outputs": [
    {
     "name": "stdout",
     "output_type": "stream",
     "text": [
      "numChanged:55,examinAll:0\n",
      "numChanged:7,examinAll:0\n",
      "numChanged:3,examinAll:0\n",
      "numChanged:1,examinAll:0\n",
      "numChanged:0,examinAll:1\n",
      "numChanged:30,examinAll:0\n",
      "numChanged:13,examinAll:0\n",
      "numChanged:9,examinAll:0\n",
      "numChanged:8,examinAll:0\n",
      "numChanged:5,examinAll:0\n",
      "numChanged:5,examinAll:0\n",
      "numChanged:5,examinAll:0\n",
      "numChanged:5,examinAll:0\n",
      "numChanged:4,examinAll:0\n",
      "numChanged:4,examinAll:0\n",
      "numChanged:5,examinAll:0\n",
      "numChanged:5,examinAll:0\n",
      "numChanged:8,examinAll:0\n",
      "numChanged:5,examinAll:0\n",
      "numChanged:4,examinAll:0\n",
      "numChanged:5,examinAll:0\n",
      "numChanged:4,examinAll:0\n",
      "numChanged:5,examinAll:0\n",
      "numChanged:3,examinAll:0\n",
      "numChanged:5,examinAll:0\n",
      "numChanged:4,examinAll:0\n",
      "numChanged:4,examinAll:0\n",
      "numChanged:4,examinAll:0\n",
      "numChanged:5,examinAll:0\n",
      "numChanged:5,examinAll:0\n",
      "numChanged:3,examinAll:0\n",
      "numChanged:4,examinAll:0\n",
      "numChanged:6,examinAll:0\n",
      "numChanged:4,examinAll:0\n",
      "numChanged:3,examinAll:0\n",
      "numChanged:5,examinAll:0\n",
      "numChanged:4,examinAll:0\n",
      "numChanged:4,examinAll:0\n",
      "numChanged:5,examinAll:0\n",
      "numChanged:4,examinAll:0\n",
      "numChanged:6,examinAll:0\n",
      "numChanged:4,examinAll:0\n",
      "numChanged:6,examinAll:0\n",
      "numChanged:5,examinAll:0\n",
      "numChanged:5,examinAll:0\n",
      "numChanged:6,examinAll:0\n",
      "numChanged:5,examinAll:0\n",
      "numChanged:4,examinAll:0\n",
      "numChanged:5,examinAll:0\n",
      "numChanged:4,examinAll:0\n",
      "numChanged:6,examinAll:0\n",
      "numChanged:4,examinAll:0\n",
      "numChanged:3,examinAll:0\n",
      "numChanged:5,examinAll:0\n",
      "numChanged:4,examinAll:0\n",
      "numChanged:5,examinAll:0\n",
      "numChanged:3,examinAll:0\n",
      "numChanged:3,examinAll:0\n",
      "numChanged:2,examinAll:0\n",
      "numChanged:2,examinAll:0\n",
      "numChanged:2,examinAll:0\n",
      "numChanged:5,examinAll:0\n",
      "numChanged:5,examinAll:0\n",
      "numChanged:3,examinAll:0\n",
      "numChanged:6,examinAll:0\n",
      "numChanged:4,examinAll:0\n",
      "numChanged:7,examinAll:0\n",
      "numChanged:4,examinAll:0\n",
      "numChanged:5,examinAll:0\n",
      "numChanged:4,examinAll:0\n",
      "numChanged:5,examinAll:0\n",
      "numChanged:3,examinAll:0\n",
      "numChanged:2,examinAll:0\n",
      "numChanged:3,examinAll:0\n",
      "numChanged:3,examinAll:0\n",
      "numChanged:2,examinAll:0\n",
      "numChanged:2,examinAll:0\n",
      "numChanged:2,examinAll:0\n",
      "numChanged:3,examinAll:0\n",
      "numChanged:2,examinAll:0\n",
      "numChanged:4,examinAll:0\n",
      "numChanged:3,examinAll:0\n",
      "numChanged:4,examinAll:0\n",
      "numChanged:6,examinAll:0\n",
      "numChanged:4,examinAll:0\n",
      "numChanged:4,examinAll:0\n",
      "numChanged:5,examinAll:0\n",
      "numChanged:2,examinAll:0\n",
      "numChanged:3,examinAll:0\n",
      "numChanged:3,examinAll:0\n",
      "numChanged:5,examinAll:0\n",
      "numChanged:2,examinAll:0\n",
      "numChanged:2,examinAll:0\n",
      "numChanged:4,examinAll:0\n",
      "numChanged:2,examinAll:0\n",
      "numChanged:4,examinAll:0\n",
      "numChanged:2,examinAll:0\n",
      "numChanged:3,examinAll:0\n",
      "numChanged:2,examinAll:0\n",
      "numChanged:3,examinAll:0\n",
      "numChanged:4,examinAll:0\n",
      "numChanged:4,examinAll:0\n",
      "numChanged:4,examinAll:0\n",
      "numChanged:4,examinAll:0\n",
      "numChanged:2,examinAll:0\n",
      "numChanged:6,examinAll:0\n",
      "numChanged:6,examinAll:0\n",
      "numChanged:7,examinAll:0\n",
      "numChanged:4,examinAll:0\n",
      "numChanged:4,examinAll:0\n",
      "numChanged:6,examinAll:0\n",
      "numChanged:4,examinAll:0\n",
      "numChanged:4,examinAll:0\n",
      "numChanged:2,examinAll:0\n",
      "numChanged:3,examinAll:0\n",
      "numChanged:5,examinAll:0\n",
      "numChanged:4,examinAll:0\n",
      "numChanged:3,examinAll:0\n",
      "numChanged:3,examinAll:0\n",
      "numChanged:2,examinAll:0\n",
      "numChanged:1,examinAll:0\n",
      "numChanged:3,examinAll:0\n",
      "numChanged:6,examinAll:0\n",
      "numChanged:5,examinAll:0\n",
      "numChanged:8,examinAll:0\n",
      "numChanged:4,examinAll:0\n",
      "numChanged:5,examinAll:0\n",
      "numChanged:1,examinAll:0\n",
      "numChanged:3,examinAll:0\n",
      "numChanged:4,examinAll:0\n",
      "numChanged:0,examinAll:1\n",
      "numChanged:15,examinAll:0\n",
      "numChanged:11,examinAll:0\n",
      "numChanged:13,examinAll:0\n",
      "numChanged:7,examinAll:0\n",
      "numChanged:10,examinAll:0\n",
      "numChanged:6,examinAll:0\n",
      "numChanged:6,examinAll:0\n",
      "numChanged:7,examinAll:0\n",
      "numChanged:5,examinAll:0\n",
      "numChanged:5,examinAll:0\n",
      "numChanged:3,examinAll:0\n",
      "numChanged:5,examinAll:0\n",
      "numChanged:3,examinAll:0\n",
      "numChanged:4,examinAll:0\n",
      "numChanged:2,examinAll:0\n",
      "numChanged:7,examinAll:0\n",
      "numChanged:4,examinAll:0\n",
      "numChanged:5,examinAll:0\n",
      "numChanged:3,examinAll:0\n",
      "numChanged:5,examinAll:0\n",
      "numChanged:4,examinAll:0\n",
      "numChanged:4,examinAll:0\n",
      "numChanged:2,examinAll:0\n",
      "numChanged:4,examinAll:0\n",
      "numChanged:3,examinAll:0\n",
      "numChanged:4,examinAll:0\n",
      "numChanged:3,examinAll:0\n",
      "numChanged:2,examinAll:0\n",
      "numChanged:4,examinAll:0\n",
      "numChanged:6,examinAll:0\n",
      "numChanged:4,examinAll:0\n",
      "numChanged:5,examinAll:0\n",
      "numChanged:0,examinAll:1\n",
      "numChanged:6,examinAll:0\n",
      "numChanged:3,examinAll:0\n",
      "numChanged:3,examinAll:0\n",
      "numChanged:2,examinAll:0\n",
      "numChanged:7,examinAll:0\n",
      "numChanged:3,examinAll:0\n",
      "numChanged:4,examinAll:0\n",
      "numChanged:1,examinAll:0\n",
      "numChanged:6,examinAll:0\n",
      "numChanged:3,examinAll:0\n",
      "numChanged:3,examinAll:0\n",
      "numChanged:5,examinAll:0\n",
      "numChanged:4,examinAll:0\n",
      "numChanged:5,examinAll:0\n",
      "numChanged:2,examinAll:0\n",
      "numChanged:7,examinAll:0\n",
      "numChanged:4,examinAll:0\n",
      "numChanged:6,examinAll:0\n",
      "numChanged:6,examinAll:0\n",
      "numChanged:4,examinAll:0\n",
      "numChanged:6,examinAll:0\n",
      "numChanged:7,examinAll:0\n",
      "numChanged:4,examinAll:0\n",
      "numChanged:8,examinAll:0\n",
      "numChanged:6,examinAll:0\n",
      "numChanged:4,examinAll:0\n",
      "numChanged:3,examinAll:0\n",
      "numChanged:6,examinAll:0\n",
      "numChanged:3,examinAll:0\n",
      "numChanged:4,examinAll:0\n",
      "numChanged:6,examinAll:0\n",
      "numChanged:7,examinAll:0\n",
      "numChanged:5,examinAll:0\n",
      "numChanged:8,examinAll:0\n",
      "numChanged:2,examinAll:0\n",
      "numChanged:5,examinAll:0\n",
      "numChanged:7,examinAll:0\n",
      "numChanged:5,examinAll:0\n",
      "numChanged:7,examinAll:0\n",
      "numChanged:8,examinAll:0\n",
      "numChanged:3,examinAll:0\n",
      "numChanged:5,examinAll:0\n",
      "numChanged:6,examinAll:0\n",
      "numChanged:5,examinAll:0\n",
      "numChanged:5,examinAll:0\n",
      "numChanged:5,examinAll:0\n",
      "numChanged:4,examinAll:0\n",
      "numChanged:4,examinAll:0\n",
      "numChanged:7,examinAll:0\n",
      "numChanged:5,examinAll:0\n",
      "numChanged:3,examinAll:0\n",
      "numChanged:1,examinAll:0\n",
      "numChanged:3,examinAll:0\n",
      "numChanged:2,examinAll:0\n",
      "numChanged:0,examinAll:1\n",
      "numChanged:4,examinAll:0\n",
      "numChanged:3,examinAll:0\n",
      "numChanged:0,examinAll:1\n",
      "numChanged:4,examinAll:0\n",
      "numChanged:2,examinAll:0\n",
      "numChanged:1,examinAll:0\n",
      "numChanged:3,examinAll:0\n",
      "numChanged:0,examinAll:1\n",
      "numChanged:0,examinAll:0\n"
     ]
    }
   ],
   "source": [
    "b = 0\n",
    "w = np.zeros((n,))\n",
    "alpha = np.zeros((m,))\n",
    "C = 0.05\n",
    "E = np.zeros((m,))\n",
    "\n",
    "eps = 1e-3\n",
    "\n",
    "numChanged = 0\n",
    "examinAll = 1\n",
    "while numChanged > 0 or examinAll:\n",
    "    numChanged = 0\n",
    "    if examinAll:\n",
    "        for i in range(m):\n",
    "            numChanged += examineExample(i)\n",
    "    else:\n",
    "        for i in range(m):\n",
    "            if 0 < alpha[i] < C:\n",
    "                numChanged += examineExample(i)\n",
    "    if examinAll == 1:\n",
    "        examinAll = 0\n",
    "    elif numChanged == 0:\n",
    "        examinAll = 1\n",
    "    print(f\"numChanged:{numChanged},examinAll:{examinAll}\")"
   ]
  },
  {
   "cell_type": "markdown",
   "metadata": {},
   "source": [
    "## 准确率"
   ]
  },
  {
   "cell_type": "code",
   "execution_count": 13,
   "metadata": {},
   "outputs": [
    {
     "name": "stdout",
     "output_type": "stream",
     "text": [
      "0.82\n"
     ]
    }
   ],
   "source": [
    "ret = train.dot(w)\n",
    "ret[ret>0] = 1\n",
    "ret[ret<0] = -1\n",
    "print(sum(ret==y)/len(y))"
   ]
  },
  {
   "cell_type": "markdown",
   "metadata": {},
   "source": [
    "## 探究支持向量与训练集大小的关系"
   ]
  },
  {
   "cell_type": "code",
   "execution_count": 15,
   "metadata": {},
   "outputs": [
    {
     "name": "stdout",
     "output_type": "stream",
     "text": [
      "m= 50 test 0 1 2 3 4 Bound sample:6.0,NonBound sample:44.0\n",
      "time: 0.4 acc: 0.7879999999999999\n",
      "m= 100 test 0 1 2 3 4 Bound sample:6.0,NonBound sample:94.0\n",
      "time: 3.0 acc: 0.7860000000000001\n",
      "m= 150 test 0 1 2 3 4 Bound sample:7.0,NonBound sample:143.0\n",
      "time: 7.2 acc: 0.8173333333333332\n",
      "m= 200 test 0 1 2 3 4 Bound sample:10.6,NonBound sample:189.4\n",
      "time: 9.4 acc: 0.79\n",
      "m= 250 test 0 1 2 3 4 Bound sample:18.2,NonBound sample:231.8\n",
      "time: 12.4 acc: 0.792\n",
      "m= 300 test 0 1 2 3 4 Bound sample:9.8,NonBound sample:290.2\n",
      "time: 28.0 acc: 0.784\n",
      "m= 350 test 0 1 2 3 4 Bound sample:10.2,NonBound sample:339.8\n",
      "time: 46.8 acc: 0.788\n",
      "m= 400 test 0 1 2 3 4 Bound sample:15.6,NonBound sample:384.4\n",
      "time: 46.8 acc: 0.7914999999999999\n",
      "m= 450 test 0 1 2 3 4 Bound sample:22.8,NonBound sample:427.2\n",
      "time: 59.2 acc: 0.7831111111111111\n",
      "m= 500 test 0 1 2 3 4 Bound sample:21.4,NonBound sample:478.6\n",
      "time: 88.0 acc: 0.7807999999999999\n"
     ]
    }
   ],
   "source": [
    "from datetime import datetime\n",
    "import random\n",
    "\n",
    "\n",
    "test_time = 5\n",
    "\n",
    "bound_sample = np.zeros((11,))\n",
    "nonbound_sample = np.zeros((11,))\n",
    "time = np.zeros((11,))\n",
    "acc = np.zeros((11,))\n",
    "\n",
    "for samplei in range(1,11):\n",
    "    m = samplei*50\n",
    "    print(\"m=\",m,end=' ')\n",
    "    print(\"test\",end=' ')\n",
    "    for t in range(test_time):\n",
    "        print(t,end=' ')\n",
    "        start = datetime.now()        \n",
    "        \n",
    "        indexs = random.sample(range(0,train_data.shape[0]),m)\n",
    "\n",
    "        \n",
    "        train = train_data.iloc[indexs,:]\n",
    "        y = labels[indexs].values\n",
    "        n = train.shape[1]\n",
    "        K = train.dot(train.T)\n",
    "\n",
    "\n",
    "        b = 0\n",
    "        w = np.zeros((n,))\n",
    "        alpha = np.zeros((m,))\n",
    "        C = 0.05\n",
    "        E = np.zeros((m,))\n",
    "\n",
    "        eps = 1e-3\n",
    "\n",
    "        numChanged = 0\n",
    "        examinAll = 1\n",
    "        while numChanged > 0 or examinAll:\n",
    "            numChanged = 0\n",
    "            if examinAll:\n",
    "                for i in range(m):\n",
    "                    numChanged += examineExample(i)\n",
    "            else:\n",
    "                for i in range(m):\n",
    "                    if 0 < alpha[i] < C:\n",
    "                        numChanged += examineExample(i)\n",
    "            if examinAll == 1:\n",
    "                examinAll = 0\n",
    "            elif numChanged == 0:\n",
    "                examinAll = 1\n",
    "            #print(f\"numChanged:{numChanged},examinAll:{examinAll}\")\n",
    "        end = datetime.now()\n",
    "\n",
    "        alpha_eq_c = abs(alpha-C) < eps\n",
    "        alpha_eq_0 = abs(alpha) < eps\n",
    "\n",
    "\n",
    "        ret = train.dot(w)\n",
    "        ret[ret>0] = 1\n",
    "        ret[ret<0] = -1\n",
    "        time[samplei] += (end-start).seconds\n",
    "        acc[samplei] += sum(ret==y)/len(y)\n",
    "        bound_sample[samplei] += m-sum(alpha_eq_0)-sum(alpha_eq_c)\n",
    "        nonbound_sample[samplei] += sum(alpha_eq_0)+sum(alpha_eq_c)\n",
    "    time[samplei] /= test_time\n",
    "    acc[samplei] /= test_time\n",
    "    bound_sample[samplei] /= test_time\n",
    "    nonbound_sample[samplei] /= test_time\n",
    "    \n",
    "    print(f\"Bound sample:{bound_sample[samplei]},NonBound sample:{nonbound_sample[samplei]}\")\n",
    "    print(\"time:\",time[samplei],end=' ')\n",
    "    print(\"acc:\",acc[samplei])\n"
   ]
  },
  {
   "cell_type": "markdown",
   "metadata": {},
   "source": [
    "## 综合训练"
   ]
  },
  {
   "cell_type": "code",
   "execution_count": 93,
   "metadata": {},
   "outputs": [],
   "source": [
    "m = np.arange(0,501,50)"
   ]
  },
  {
   "cell_type": "code",
   "execution_count": 52,
   "metadata": {},
   "outputs": [
    {
     "name": "stdout",
     "output_type": "stream",
     "text": [
      "numChanged:425,examinAll:0\n",
      "numChanged:68,examinAll:0\n",
      "numChanged:30,examinAll:0\n",
      "numChanged:14,examinAll:0\n",
      "numChanged:9,examinAll:0\n",
      "numChanged:7,examinAll:0\n",
      "numChanged:6,examinAll:0\n",
      "numChanged:4,examinAll:0\n",
      "numChanged:2,examinAll:0\n",
      "numChanged:2,examinAll:0\n",
      "numChanged:1,examinAll:0\n",
      "numChanged:2,examinAll:0\n",
      "numChanged:3,examinAll:0\n",
      "numChanged:0,examinAll:1\n",
      "numChanged:168,examinAll:0\n",
      "numChanged:62,examinAll:0\n",
      "numChanged:30,examinAll:0\n",
      "numChanged:26,examinAll:0\n",
      "numChanged:13,examinAll:0\n",
      "numChanged:10,examinAll:0\n",
      "numChanged:5,examinAll:0\n",
      "numChanged:3,examinAll:0\n",
      "numChanged:4,examinAll:0\n",
      "numChanged:3,examinAll:0\n",
      "numChanged:0,examinAll:1\n",
      "numChanged:117,examinAll:0\n",
      "numChanged:61,examinAll:0\n",
      "numChanged:34,examinAll:0\n",
      "numChanged:27,examinAll:0\n",
      "numChanged:25,examinAll:0\n",
      "numChanged:17,examinAll:0\n",
      "numChanged:16,examinAll:0\n",
      "numChanged:17,examinAll:0\n",
      "numChanged:13,examinAll:0\n",
      "numChanged:11,examinAll:0\n",
      "numChanged:8,examinAll:0\n",
      "numChanged:7,examinAll:0\n",
      "numChanged:4,examinAll:0\n",
      "numChanged:8,examinAll:0\n",
      "numChanged:12,examinAll:0\n",
      "numChanged:9,examinAll:0\n",
      "numChanged:8,examinAll:0\n",
      "numChanged:6,examinAll:0\n",
      "numChanged:9,examinAll:0\n",
      "numChanged:8,examinAll:0\n",
      "numChanged:9,examinAll:0\n",
      "numChanged:4,examinAll:0\n",
      "numChanged:4,examinAll:0\n",
      "numChanged:8,examinAll:0\n",
      "numChanged:6,examinAll:0\n",
      "numChanged:5,examinAll:0\n",
      "numChanged:6,examinAll:0\n",
      "numChanged:9,examinAll:0\n",
      "numChanged:8,examinAll:0\n",
      "numChanged:7,examinAll:0\n",
      "numChanged:10,examinAll:0\n",
      "numChanged:5,examinAll:0\n",
      "numChanged:6,examinAll:0\n",
      "numChanged:11,examinAll:0\n",
      "numChanged:5,examinAll:0\n",
      "numChanged:3,examinAll:0\n",
      "numChanged:5,examinAll:0\n",
      "numChanged:8,examinAll:0\n",
      "numChanged:4,examinAll:0\n",
      "numChanged:7,examinAll:0\n",
      "numChanged:7,examinAll:0\n",
      "numChanged:6,examinAll:0\n",
      "numChanged:6,examinAll:0\n",
      "numChanged:6,examinAll:0\n",
      "numChanged:6,examinAll:0\n",
      "numChanged:4,examinAll:0\n",
      "numChanged:9,examinAll:0\n",
      "numChanged:7,examinAll:0\n",
      "numChanged:7,examinAll:0\n",
      "numChanged:7,examinAll:0\n",
      "numChanged:6,examinAll:0\n",
      "numChanged:6,examinAll:0\n",
      "numChanged:8,examinAll:0\n",
      "numChanged:7,examinAll:0\n",
      "numChanged:5,examinAll:0\n",
      "numChanged:7,examinAll:0\n",
      "numChanged:7,examinAll:0\n",
      "numChanged:9,examinAll:0\n",
      "numChanged:4,examinAll:0\n",
      "numChanged:11,examinAll:0\n",
      "numChanged:8,examinAll:0\n",
      "numChanged:9,examinAll:0\n",
      "numChanged:9,examinAll:0\n",
      "numChanged:10,examinAll:0\n",
      "numChanged:8,examinAll:0\n",
      "numChanged:8,examinAll:0\n",
      "numChanged:8,examinAll:0\n",
      "numChanged:6,examinAll:0\n",
      "numChanged:6,examinAll:0\n",
      "numChanged:5,examinAll:0\n",
      "numChanged:8,examinAll:0\n",
      "numChanged:10,examinAll:0\n",
      "numChanged:6,examinAll:0\n",
      "numChanged:8,examinAll:0\n",
      "numChanged:7,examinAll:0\n",
      "numChanged:2,examinAll:0\n",
      "numChanged:5,examinAll:0\n",
      "numChanged:6,examinAll:0\n",
      "numChanged:9,examinAll:0\n",
      "numChanged:5,examinAll:0\n",
      "numChanged:3,examinAll:0\n",
      "numChanged:7,examinAll:0\n",
      "numChanged:4,examinAll:0\n",
      "numChanged:7,examinAll:0\n",
      "numChanged:4,examinAll:0\n",
      "numChanged:5,examinAll:0\n",
      "numChanged:4,examinAll:0\n",
      "numChanged:5,examinAll:0\n",
      "numChanged:4,examinAll:0\n",
      "numChanged:3,examinAll:0\n",
      "numChanged:7,examinAll:0\n",
      "numChanged:3,examinAll:0\n",
      "numChanged:2,examinAll:0\n",
      "numChanged:4,examinAll:0\n",
      "numChanged:4,examinAll:0\n",
      "numChanged:0,examinAll:1\n",
      "numChanged:16,examinAll:0\n",
      "numChanged:6,examinAll:0\n",
      "numChanged:3,examinAll:0\n",
      "numChanged:0,examinAll:1\n",
      "numChanged:4,examinAll:0\n",
      "numChanged:2,examinAll:0\n",
      "numChanged:0,examinAll:1\n",
      "numChanged:1,examinAll:0\n",
      "numChanged:0,examinAll:1\n",
      "numChanged:0,examinAll:0\n"
     ]
    }
   ],
   "source": [
    "train = train_data\n",
    "y = labels\n",
    "m = train.shape[0]\n",
    "n = train.shape[1]\n",
    "K = train.dot(train.T)\n",
    "\n",
    "b = 0\n",
    "w = np.zeros((n,))\n",
    "alpha = np.zeros((m,))\n",
    "C = 0.05\n",
    "E = np.zeros((m,))\n",
    "\n",
    "eps = 1e-3\n",
    "\n",
    "numChanged = 0\n",
    "examinAll = 1\n",
    "while numChanged > 0 or examinAll:\n",
    "    numChanged = 0\n",
    "    if examinAll:\n",
    "        for i in range(m):\n",
    "            numChanged += examineExample(i)\n",
    "    else:\n",
    "        for i in range(m):\n",
    "            if 0 < alpha[i] < C:\n",
    "                numChanged += examineExample(i)\n",
    "    if examinAll == 1:\n",
    "        examinAll = 0\n",
    "    elif numChanged == 0:\n",
    "        examinAll = 1\n",
    "    print(f\"numChanged:{numChanged},examinAll:{examinAll}\")\n"
   ]
  },
  {
   "cell_type": "markdown",
   "metadata": {},
   "source": [
    "## 训练结果"
   ]
  },
  {
   "cell_type": "code",
   "execution_count": 42,
   "metadata": {},
   "outputs": [
    {
     "data": {
      "text/plain": [
       "Pclass   -0.008753\n",
       "Sex      -0.957189\n",
       "Age      -0.007217\n",
       "SibSp    -0.028429\n",
       "Parch     0.004725\n",
       "Fare      0.008253\n",
       "dtype: float64"
      ]
     },
     "execution_count": 42,
     "metadata": {},
     "output_type": "execute_result"
    }
   ],
   "source": [
    "w"
   ]
  },
  {
   "cell_type": "code",
   "execution_count": 46,
   "metadata": {},
   "outputs": [
    {
     "data": {
      "text/plain": [
       "0.2965058449004327"
      ]
     },
     "execution_count": 46,
     "metadata": {},
     "output_type": "execute_result"
    }
   ],
   "source": [
    "b"
   ]
  },
  {
   "cell_type": "markdown",
   "metadata": {},
   "source": [
    "## 正确率"
   ]
  },
  {
   "cell_type": "code",
   "execution_count": 56,
   "metadata": {},
   "outputs": [
    {
     "name": "stdout",
     "output_type": "stream",
     "text": [
      "0.7867564534231201\n"
     ]
    }
   ],
   "source": [
    "ret = train.dot(w) - b\n",
    "ret[ret>0] = 1\n",
    "ret[ret<0] = -1\n",
    "print(sum(ret==y)/len(y))"
   ]
  },
  {
   "cell_type": "markdown",
   "metadata": {},
   "source": [
    "## 可视化"
   ]
  },
  {
   "cell_type": "code",
   "execution_count": 57,
   "metadata": {},
   "outputs": [],
   "source": [
    "sigma = train.T.dot(train)"
   ]
  },
  {
   "cell_type": "code",
   "execution_count": 58,
   "metadata": {},
   "outputs": [
    {
     "data": {
      "text/html": [
       "<div>\n",
       "<style scoped>\n",
       "    .dataframe tbody tr th:only-of-type {\n",
       "        vertical-align: middle;\n",
       "    }\n",
       "\n",
       "    .dataframe tbody tr th {\n",
       "        vertical-align: top;\n",
       "    }\n",
       "\n",
       "    .dataframe thead th {\n",
       "        text-align: right;\n",
       "    }\n",
       "</style>\n",
       "<table border=\"1\" class=\"dataframe\">\n",
       "  <thead>\n",
       "    <tr style=\"text-align: right;\">\n",
       "      <th></th>\n",
       "      <th>Pclass</th>\n",
       "      <th>Sex</th>\n",
       "      <th>Age</th>\n",
       "      <th>SibSp</th>\n",
       "      <th>Parch</th>\n",
       "      <th>Fare</th>\n",
       "    </tr>\n",
       "  </thead>\n",
       "  <tbody>\n",
       "    <tr>\n",
       "      <th>Pclass</th>\n",
       "      <td>890.000000</td>\n",
       "      <td>117.391437</td>\n",
       "      <td>-294.891509</td>\n",
       "      <td>73.942413</td>\n",
       "      <td>16.413977</td>\n",
       "      <td>-489.054662</td>\n",
       "    </tr>\n",
       "    <tr>\n",
       "      <th>Sex</th>\n",
       "      <td>117.391437</td>\n",
       "      <td>890.000000</td>\n",
       "      <td>74.896561</td>\n",
       "      <td>-102.021421</td>\n",
       "      <td>-218.485174</td>\n",
       "      <td>-162.276222</td>\n",
       "    </tr>\n",
       "    <tr>\n",
       "      <th>Age</th>\n",
       "      <td>-294.891509</td>\n",
       "      <td>74.896561</td>\n",
       "      <td>890.000000</td>\n",
       "      <td>-207.035882</td>\n",
       "      <td>-159.479915</td>\n",
       "      <td>81.493823</td>\n",
       "    </tr>\n",
       "    <tr>\n",
       "      <th>SibSp</th>\n",
       "      <td>73.942413</td>\n",
       "      <td>-102.021421</td>\n",
       "      <td>-207.035882</td>\n",
       "      <td>890.000000</td>\n",
       "      <td>369.205552</td>\n",
       "      <td>142.089428</td>\n",
       "    </tr>\n",
       "    <tr>\n",
       "      <th>Parch</th>\n",
       "      <td>16.413977</td>\n",
       "      <td>-218.485174</td>\n",
       "      <td>-159.479915</td>\n",
       "      <td>369.205552</td>\n",
       "      <td>890.000000</td>\n",
       "      <td>192.440201</td>\n",
       "    </tr>\n",
       "    <tr>\n",
       "      <th>Fare</th>\n",
       "      <td>-489.054662</td>\n",
       "      <td>-162.276222</td>\n",
       "      <td>81.493823</td>\n",
       "      <td>142.089428</td>\n",
       "      <td>192.440201</td>\n",
       "      <td>890.000000</td>\n",
       "    </tr>\n",
       "  </tbody>\n",
       "</table>\n",
       "</div>"
      ],
      "text/plain": [
       "            Pclass         Sex         Age       SibSp       Parch        Fare\n",
       "Pclass  890.000000  117.391437 -294.891509   73.942413   16.413977 -489.054662\n",
       "Sex     117.391437  890.000000   74.896561 -102.021421 -218.485174 -162.276222\n",
       "Age    -294.891509   74.896561  890.000000 -207.035882 -159.479915   81.493823\n",
       "SibSp    73.942413 -102.021421 -207.035882  890.000000  369.205552  142.089428\n",
       "Parch    16.413977 -218.485174 -159.479915  369.205552  890.000000  192.440201\n",
       "Fare   -489.054662 -162.276222   81.493823  142.089428  192.440201  890.000000"
      ]
     },
     "execution_count": 58,
     "metadata": {},
     "output_type": "execute_result"
    }
   ],
   "source": [
    "sigma"
   ]
  },
  {
   "cell_type": "code",
   "execution_count": 62,
   "metadata": {},
   "outputs": [],
   "source": [
    "lambdas, us = np.linalg.eig(sigma)"
   ]
  },
  {
   "cell_type": "code",
   "execution_count": 63,
   "metadata": {},
   "outputs": [
    {
     "name": "stdout",
     "output_type": "stream",
     "text": [
      "累计贡献率 0.5792171037744215\n"
     ]
    }
   ],
   "source": [
    "print(\"累计贡献率\",(lambdas[0]+lambdas[1])/sum(lambdas))"
   ]
  },
  {
   "cell_type": "code",
   "execution_count": 65,
   "metadata": {},
   "outputs": [],
   "source": [
    "u1 = us[0]\n",
    "u2 = us[1]"
   ]
  },
  {
   "cell_type": "code",
   "execution_count": 66,
   "metadata": {},
   "outputs": [
    {
     "data": {
      "text/plain": [
       "array([ 0.38336476,  0.55571997, -0.70915314,  0.04905082, -0.19417769,\n",
       "       -0.0346069 ])"
      ]
     },
     "execution_count": 66,
     "metadata": {},
     "output_type": "execute_result"
    }
   ],
   "source": [
    "u1"
   ]
  },
  {
   "cell_type": "code",
   "execution_count": 67,
   "metadata": {},
   "outputs": [
    {
     "data": {
      "text/plain": [
       "array([ 0.39885211, -0.07612338,  0.06390703, -0.86173466,  0.16287   ,\n",
       "       -0.24884705])"
      ]
     },
     "execution_count": 67,
     "metadata": {},
     "output_type": "execute_result"
    }
   ],
   "source": [
    "u2"
   ]
  },
  {
   "cell_type": "code",
   "execution_count": 68,
   "metadata": {},
   "outputs": [],
   "source": [
    "y1 = train.dot(u1)\n",
    "y2 = train.dot(u2)"
   ]
  },
  {
   "cell_type": "markdown",
   "metadata": {},
   "source": [
    "### 标签"
   ]
  },
  {
   "cell_type": "code",
   "execution_count": 69,
   "metadata": {},
   "outputs": [
    {
     "data": {
      "text/plain": [
       "<matplotlib.collections.PathCollection at 0x7fdaa07d87f0>"
      ]
     },
     "execution_count": 69,
     "metadata": {},
     "output_type": "execute_result"
    },
    {
     "data": {
      "image/png": "[encoded data removed]",
      "text/plain": [
       "<matplotlib.figure.Figure at 0x7fda9ae7d470>"
      ]
     },
     "metadata": {},
     "output_type": "display_data"
    }
   ],
   "source": [
    "plt.scatter(y1[y==1],y2[y==1])\n",
    "plt.scatter(y1[y==-1],y2[y==-1])"
   ]
  },
  {
   "cell_type": "markdown",
   "metadata": {},
   "source": [
    "### 预测结果"
   ]
  },
  {
   "cell_type": "code",
   "execution_count": 82,
   "metadata": {},
   "outputs": [
    {
     "data": {
      "text/plain": [
       "<matplotlib.collections.PathCollection at 0x7fdaa0658fd0>"
      ]
     },
     "execution_count": 82,
     "metadata": {},
     "output_type": "execute_result"
    },
    {
     "data": {
      "image/png": "[encoded data removed]",
      "text/plain": [
       "<matplotlib.figure.Figure at 0x7fdaa0658160>"
      ]
     },
     "metadata": {},
     "output_type": "display_data"
    }
   ],
   "source": [
    "plt.scatter(y1[ret==1],y2[ret==1])\n",
    "plt.scatter(y1[ret==-1],y2[ret==-1])"
   ]
  }
 ],
 "metadata": {
  "kernelspec": {
   "display_name": "Python 3",
   "language": "python",
   "name": "python3"
  },
  "language_info": {
   "codemirror_mode": {
    "name": "ipython",
    "version": 3
   },
   "file_extension": ".py",
   "mimetype": "text/x-python",
   "name": "python",
   "nbconvert_exporter": "python",
   "pygments_lexer": "ipython3",
   "version": "3.7.0"
  }
 },
 "nbformat": 4,
 "nbformat_minor": 2
}

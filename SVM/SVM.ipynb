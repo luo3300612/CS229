{
 "cells": [
  {
   "cell_type": "markdown",
   "metadata": {},
   "source": [
    "# SVM trained by SMO（from scratch）"
   ]
  },
  {
   "cell_type": "code",
   "execution_count": 1,
   "metadata": {},
   "outputs": [],
   "source": [
    "import pandas as pd\n",
    "import numpy as np\n",
    "import matplotlib.pyplot as plt"
   ]
  },
  {
   "cell_type": "code",
   "execution_count": 2,
   "metadata": {},
   "outputs": [],
   "source": [
    "train_data = pd.read_csv('train.csv')\n",
    "test_data = pd.read_csv('test.csv')"
   ]
  },
  {
   "cell_type": "code",
   "execution_count": 3,
   "metadata": {},
   "outputs": [],
   "source": [
    "datasets = [train_data, test_data]"
   ]
  },
  {
   "cell_type": "code",
   "execution_count": 4,
   "metadata": {},
   "outputs": [
    {
     "name": "stdout",
     "output_type": "stream",
     "text": [
      "<class 'pandas.core.frame.DataFrame'>\n",
      "RangeIndex: 891 entries, 0 to 890\n",
      "Data columns (total 12 columns):\n",
      "PassengerId    891 non-null int64\n",
      "Survived       891 non-null int64\n",
      "Pclass         891 non-null int64\n",
      "Name           891 non-null object\n",
      "Sex            891 non-null object\n",
      "Age            714 non-null float64\n",
      "SibSp          891 non-null int64\n",
      "Parch          891 non-null int64\n",
      "Ticket         891 non-null object\n",
      "Fare           891 non-null float64\n",
      "Cabin          204 non-null object\n",
      "Embarked       889 non-null object\n",
      "dtypes: float64(2), int64(5), object(5)\n",
      "memory usage: 83.6+ KB\n"
     ]
    }
   ],
   "source": [
    "train_data.info()"
   ]
  },
  {
   "cell_type": "code",
   "execution_count": 5,
   "metadata": {},
   "outputs": [],
   "source": [
    "to_drop = ['Name', 'Ticket', 'Cabin', 'Embarked', 'PassengerId']"
   ]
  },
  {
   "cell_type": "code",
   "execution_count": 6,
   "metadata": {},
   "outputs": [],
   "source": [
    "for dataset in datasets:\n",
    "    dataset.drop(to_drop,axis=1,inplace=True)\n",
    "    dataset.replace(to_replace='male',value=1,inplace=True)\n",
    "    dataset.replace(to_replace='female',value=0,inplace=True)\n",
    "    dataset['Age'].fillna(value=dataset['Age'].mean(), inplace=True)\n",
    "    dataset['Fare'].fillna(value=dataset['Fare'].mean(), inplace=True)"
   ]
  },
  {
   "cell_type": "code",
   "execution_count": 7,
   "metadata": {},
   "outputs": [
    {
     "name": "stdout",
     "output_type": "stream",
     "text": [
      "Survived    0\n",
      "Pclass      0\n",
      "Sex         0\n",
      "Age         0\n",
      "SibSp       0\n",
      "Parch       0\n",
      "Fare        0\n",
      "dtype: int64\n",
      "--------------------------------------------------\n",
      "Pclass    0\n",
      "Sex       0\n",
      "Age       0\n",
      "SibSp     0\n",
      "Parch     0\n",
      "Fare      0\n",
      "dtype: int64\n"
     ]
    }
   ],
   "source": [
    "print(datasets[0].isnull().sum())\n",
    "print(\"-\"*50)\n",
    "print(datasets[1].isnull().sum())"
   ]
  },
  {
   "cell_type": "code",
   "execution_count": 8,
   "metadata": {},
   "outputs": [],
   "source": [
    "labels = train_data['Survived']\n",
    "train_data.drop('Survived', axis=1, inplace=True)\n",
    "train_data = (train_data - train_data.mean())/train_data.std()\n",
    "test_data = (test_data - test_data.mean())/test_data.std()"
   ]
  },
  {
   "cell_type": "code",
   "execution_count": 9,
   "metadata": {},
   "outputs": [],
   "source": [
    "labels.replace(to_replace=0,value=-1,inplace=True);"
   ]
  },
  {
   "cell_type": "code",
   "execution_count": 12,
   "metadata": {},
   "outputs": [],
   "source": [
    "train = train_data.iloc[:650,:]\n",
    "y = labels[:650]\n",
    "m = train.shape[0]\n",
    "n = train.shape[1]\n",
    "b = 0\n",
    "w = np.zeros((n,))\n",
    "alphas = np.zeros((m,))\n",
    "\n",
    "eps = 1e-3\n",
    "\n",
    "def getK(kernel):\n",
    "    K = np.zeros((m,m))\n",
    "    for i in range(m):\n",
    "        for j in range(m):\n",
    "            K[i,j] = kernel(train_data.iloc[i,:],train_data.iloc[j,:])\n",
    "    return K"
   ]
  },
  {
   "cell_type": "code",
   "execution_count": null,
   "metadata": {},
   "outputs": [],
   "source": [
    "def takeStep(i1,i2,kernel):\n",
    "    if i1 == i2: return 0\n",
    "    \n",
    "    alpha1 = alpha[i1]\n",
    "    alpha2 = alpha[i2]\n",
    "    y1 = y[i1]\n",
    "    y2 = y[i2]\n",
    "    x1 = train.iloc[i1,:]\n",
    "    x2 = train.iloc[i2,:]\n",
    "    E1 = svm(x1,w,b) - y1\n",
    "    E2 = svm(x2,w,b) - y2\n",
    "    s = y1*y2\n",
    "    \n",
    "    # compute L,H via equations (13) and (14)\n",
    "    if s < 0:\n",
    "        L = max(0,alpha2-alpha1)\n",
    "        H = min(C,C+alpha2-alpha1)\n",
    "    elif s > 0:\n",
    "        L = max(0,alpha2+alpha1-C)\n",
    "        H = min(C,alpha2+alpha2)\n",
    "    else:\n",
    "        return 0\n",
    "    \n",
    "    k11 = kernel(x1,x1)\n",
    "    k12 = kernel(x1,x2)\n",
    "    k22 = kernel(x2,x2)\n",
    "    \n",
    "    eta = k11 + k22 - 2*k12\n",
    "    \n",
    "    if eta > 0:\n",
    "        a2 = alpha2 + y2*(E1-E2) / eta\n",
    "        if a2 < L:\n",
    "            a2 = L\n",
    "        elif a2 > H:\n",
    "            a2 = H\n",
    "    else:\n",
    "        alpha[i2] = L\n",
    "        Lobj = obj(alpha)\n",
    "        alpha[i2] = H\n",
    "        Hobj = obj(alpha)\n",
    "        \n",
    "        if Lobj < Hobj - eps:\n",
    "            a2 = L\n",
    "        elif Lobj > Hobj + eps:\n",
    "            a2 = H\n",
    "        else:\n",
    "            a2 = alpha2\n",
    "    \n",
    "    if np.abs(a2-alpha2) < eps*(a2+alpha2+eps):\n",
    "        return 0\n",
    "    \n",
    "    a1 = alpha1 + s*(alpha2-a2)\n",
    "    \n",
    "    b1 = E1 + y1()\n",
    "    \n",
    "        \n",
    "def svm(x):\n",
    "    ret = 0\n",
    "    for i in range(m):\n",
    "        ret += y[i]*alpha[i]*kernel(train.iloc[i,:],x)\n",
    "    ret -= b\n",
    "    return ret\n",
    "\n",
    "\n",
    "def obj(alpha):\n",
    "    alphay = alpha * y\n",
    "    return alphay.dot(K).dot(alphay) - np.sum(alpha)"
   ]
  },
  {
   "cell_type": "code",
   "execution_count": null,
   "metadata": {},
   "outputs": [],
   "source": []
  }
 ],
 "metadata": {
  "kernelspec": {
   "display_name": "Python 3",
   "language": "python",
   "name": "python3"
  },
  "language_info": {
   "codemirror_mode": {
    "name": "ipython",
    "version": 3
   },
   "file_extension": ".py",
   "mimetype": "text/x-python",
   "name": "python",
   "nbconvert_exporter": "python",
   "pygments_lexer": "ipython3",
   "version": "3.6.4"
  }
 },
 "nbformat": 4,
 "nbformat_minor": 2
}
